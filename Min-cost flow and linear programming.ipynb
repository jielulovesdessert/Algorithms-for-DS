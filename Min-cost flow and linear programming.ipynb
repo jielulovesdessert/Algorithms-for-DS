{
 "cells": [
  {
   "cell_type": "markdown",
   "metadata": {},
   "source": [
    "# Generalizations of Max-Flow"
   ]
  },
  {
   "cell_type": "code",
   "execution_count": 1,
   "metadata": {
    "collapsed": true
   },
   "outputs": [],
   "source": [
    "import networkx as nx\n",
    "\n",
    "def create_graph(infile):\n",
    "    \"\"\"Creates a directed graph as specified by the input file. Edges are annotated with 'capacity'\n",
    "    and 'weight' attributes, and nodes are annotated with 'demand' attributes.\n",
    "    \n",
    "    Args:\n",
    "        infile: the input file using the format to specify a min-cost flow problem.\n",
    "        \n",
    "    Returns:\n",
    "        A directed graph (but not a multi-graph) with edges annotated with 'capacity' and 'weight' attributes\n",
    "        and nodes annotated with 'demand' attributes.\n",
    "    \"\"\"\n",
    "    # TODO: implement function\n",
    "    e, v = dict(),dict()\n",
    "    \n",
    "    def read_graph(infile):\n",
    "        with open(infile, 'r') as f:\n",
    "            for line in f.readlines():\n",
    "                line = line.strip().split(' ')\n",
    "                if line[0] == 'p':\n",
    "                    number = int(line[2])\n",
    "                if line[0] == 'n':\n",
    "                    v[int(line[1])] = int(line[2])\n",
    "                if line[0] == 'a':\n",
    "                    edge = (int(line[1]), int(line[2]))\n",
    "                    if edge not in e.keys():\n",
    "                        value = dict()\n",
    "                        value['capacity'] = [int(line[4])]\n",
    "                        value['cost'] = [float(line[5])]\n",
    "                        e[edge] = value\n",
    "                    else:\n",
    "                        e[edge]['capacity'].append(int(line[4]))\n",
    "                        e[edge]['cost'].append(float(line[5]))\n",
    "        for edge in e.keys():\n",
    "            if len(e[edge]['capacity']) > 1:\n",
    "                for k in range(len(e[edge]['capacity'])):\n",
    "                    number += 1\n",
    "                    edge1 = (edge[0],number)\n",
    "                    value = dict()\n",
    "                    value['capacity'] = e[edge]['capacity'][k]\n",
    "                    value['cost'] = e[edge]['cost'][k]/2.\n",
    "                    e[edge1] = value\n",
    "                    edge2 = (number, edge[1])\n",
    "                    value = dict()\n",
    "                    value['capacity'] = e[edge]['capacity'][k]\n",
    "                    value['cost'] = e[edge]['cost'][k]/2.\n",
    "                    e[edge2] = value\n",
    "                del e[edge]\n",
    "            \n",
    "    def final_graph(e,v):    \n",
    "        G = nx.DiGraph()\n",
    "        for edge in e.keys():\n",
    "            G.add_edge(edge[0], edge[1])\n",
    "        for node1 in v:\n",
    "            G.node[node1]['demand'] = v[node1]\n",
    "        for (s1, s2) in G.edges():\n",
    "            G.edge[s1][s2]['capacity'] = e[(s1, s2)]['capacity']\n",
    "            G.edge[s1][s2]['weight'] = e[(s1, s2)]['cost']\n",
    "        return G\n",
    "    \n",
    "    read_graph(infile)\n",
    "    return final_graph(e,v)\n",
    "    "
   ]
  },
  {
   "cell_type": "code",
   "execution_count": 2,
   "metadata": {},
   "outputs": [
    {
     "name": "stdout",
     "output_type": "stream",
     "text": [
      "Correct value for _40 instance: True\n",
      "Correct value for _6830 instance: True\n",
      "Correct value for _176280 instance: True\n"
     ]
    }
   ],
   "source": [
    "G_40 = create_graph('gte_bad.40')\n",
    "G_6830 = create_graph('gte_bad.6830')\n",
    "G_176280 = create_graph('gte_bad.176280')\n",
    "\n",
    "print \"Correct value for _40 instance:\", nx.min_cost_flow_cost(G_40) == 52099553858\n",
    "print \"Correct value for _6830 instance:\", nx.min_cost_flow_cost(G_6830) == 299390431788\n",
    "print \"Correct value for _176280 instance:\", nx.min_cost_flow_cost(G_176280) == 510585093810"
   ]
  },
  {
   "cell_type": "markdown",
   "metadata": {},
   "source": [
    "## Linear Programming"
   ]
  },
  {
   "cell_type": "code",
   "execution_count": 3,
   "metadata": {
    "collapsed": true
   },
   "outputs": [],
   "source": [
    "from pulp import *\n",
    "\n",
    "def lp_flow_value(G):\n",
    "    \"\"\"Computes the value of the minimum cost flow by formulating and solving\n",
    "    the problem as an LP.\n",
    "    \n",
    "    Args:\n",
    "        G: a directed graph with edges annotated with 'capacity' and 'weight'\n",
    "            attrbutes, and nodes annotated with 'demand' attributes.\n",
    "            \n",
    "    Returns:\n",
    "        The value of the minimum cost flow.\n",
    "    \"\"\"\n",
    "    # TODO: implement function\n",
    "    solver, weight = LpProblem(\"min_cost_flow\", LpMinimize),dict()\n",
    "    \n",
    "    \n",
    "    for edge in G.edges():\n",
    "        weight[str(edge)] = G.get_edge_data(edge[0], edge[1])['weight']\n",
    "    flow = pulp.LpVariable.dict(\"flow\", [str(edge) for edge in G.edges()], 0)\n",
    "    \n",
    "    \n",
    "    \n",
    "    for edge in G.edges():\n",
    "        solver += flow[str(edge)] <= G.get_edge_data(edge[0], edge[1])['capacity']\n",
    "        \n",
    "        \n",
    "        \n",
    "    for node in G.nodes():\n",
    "        if G.node[node] != {}:\n",
    "            demand = G.node[node]['demand']\n",
    "        else:\n",
    "            demand = 0\n",
    "        f_in ,f_out = [],[]\n",
    "        for edge in G.edges():\n",
    "            if node == edge[0]:\n",
    "                f_out.append(flow[str(edge)])   \n",
    "            if node == edge[1]:\n",
    "                f_in.append(flow[str(edge)])\n",
    "            \n",
    "        solver += lpSum(f_in) - lpSum(f_out) == demand\n",
    "        \n",
    "        \n",
    "    solver += lpSum([weight[str((i,j))]*flow[str((i,j))] for (i,j) in G.edges()])\n",
    "    status = solver.solve()    \n",
    "    return int(value(solver.objective))   "
   ]
  },
  {
   "cell_type": "code",
   "execution_count": 4,
   "metadata": {},
   "outputs": [
    {
     "name": "stdout",
     "output_type": "stream",
     "text": [
      "Correct value for _40 instance: True\n",
      "Correct value for _6830 instance: True\n",
      "Correct value for _176280 instance: True\n"
     ]
    }
   ],
   "source": [
    "print \"Correct value for _40 instance:\", lp_flow_value(G_40) == 52099553858\n",
    "print \"Correct value for _6830 instance:\", lp_flow_value(G_6830) == 299390431788\n",
    "print \"Correct value for _176280 instance:\", lp_flow_value(G_176280) == 510585093810"
   ]
  }
 ],
 "metadata": {
  "kernelspec": {
   "display_name": "Python 2",
   "language": "python",
   "name": "python2"
  },
  "language_info": {
   "codemirror_mode": {
    "name": "ipython",
    "version": 2
   },
   "file_extension": ".py",
   "mimetype": "text/x-python",
   "name": "python",
   "nbconvert_exporter": "python",
   "pygments_lexer": "ipython2",
   "version": "2.7.14"
  }
 },
 "nbformat": 4,
 "nbformat_minor": 1
}
